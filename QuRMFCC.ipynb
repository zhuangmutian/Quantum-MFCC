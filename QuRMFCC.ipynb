{
 "cells": [
  {
   "cell_type": "code",
   "execution_count": 1,
   "metadata": {},
   "outputs": [],
   "source": [
    "import numpy as np\n",
    "import scipy.io as sio\n",
    "import matplotlib.pyplot as plt\n",
    "from scipy.optimize import minimize\n",
    "# np.set_printoptions(threshold=np.inf)"
   ]
  },
  {
   "cell_type": "code",
   "execution_count": 2,
   "metadata": {},
   "outputs": [],
   "source": [
    "data = sio.loadmat('Rdatatrans.mat')\n",
    "raw_X =data['QuMFCCAllMatrix']\n",
    "raw_X = raw_X/32\n",
    "raw_y = data['Label']"
   ]
  },
  {
   "cell_type": "code",
   "execution_count": 3,
   "metadata": {},
   "outputs": [
    {
     "data": {
      "text/plain": [
       "array([[-6.5582007 ,  2.18126958,  2.18028664, ...,  1.83537195,\n",
       "         1.83139946,  1.82706364],\n",
       "       [-6.86384797,  0.6395561 ,  0.63950859, ...,  2.92615511,\n",
       "         2.90693993,  2.88613045],\n",
       "       [-6.88136547,  1.96676608,  1.96607175, ...,  2.37864409,\n",
       "         2.36921914,  2.35896535],\n",
       "       ...,\n",
       "       [-5.36475125,  1.86217282,  1.86148689, ...,  3.8523291 ,\n",
       "         3.78728383,  3.71812302],\n",
       "       [-5.70366836,  1.62224722,  1.62179518, ...,  2.33145164,\n",
       "         2.3206034 ,  2.30881569],\n",
       "       [-5.72881689,  1.99068389,  1.9898401 , ...,  1.03575493,\n",
       "         1.03482273,  1.03380286]])"
      ]
     },
     "execution_count": 3,
     "metadata": {},
     "output_type": "execute_result"
    }
   ],
   "source": [
    "raw_X"
   ]
  },
  {
   "cell_type": "code",
   "execution_count": 4,
   "metadata": {},
   "outputs": [
    {
     "data": {
      "text/plain": [
       "(2480, 105)"
      ]
     },
     "execution_count": 4,
     "metadata": {},
     "output_type": "execute_result"
    }
   ],
   "source": [
    "X = np.insert(raw_X,0,values=1,axis=1)\n",
    "X.shape"
   ]
  },
  {
   "cell_type": "code",
   "execution_count": 5,
   "metadata": {},
   "outputs": [
    {
     "data": {
      "text/plain": [
       "array([[ 1.        , -6.5582007 ,  2.18126958, ...,  1.83537195,\n",
       "         1.83139946,  1.82706364],\n",
       "       [ 1.        , -6.86384797,  0.6395561 , ...,  2.92615511,\n",
       "         2.90693993,  2.88613045],\n",
       "       [ 1.        , -6.88136547,  1.96676608, ...,  2.37864409,\n",
       "         2.36921914,  2.35896535],\n",
       "       ...,\n",
       "       [ 1.        , -5.36475125,  1.86217282, ...,  3.8523291 ,\n",
       "         3.78728383,  3.71812302],\n",
       "       [ 1.        , -5.70366836,  1.62224722, ...,  2.33145164,\n",
       "         2.3206034 ,  2.30881569],\n",
       "       [ 1.        , -5.72881689,  1.99068389, ...,  1.03575493,\n",
       "         1.03482273,  1.03380286]])"
      ]
     },
     "execution_count": 5,
     "metadata": {},
     "output_type": "execute_result"
    }
   ],
   "source": [
    "X"
   ]
  },
  {
   "cell_type": "code",
   "execution_count": 5,
   "metadata": {},
   "outputs": [
    {
     "data": {
      "text/plain": [
       "(2480, 1)"
      ]
     },
     "execution_count": 5,
     "metadata": {},
     "output_type": "execute_result"
    }
   ],
   "source": [
    "raw_y.shape"
   ]
  },
  {
   "cell_type": "code",
   "execution_count": 6,
   "metadata": {},
   "outputs": [
    {
     "data": {
      "text/plain": [
       "array([[1],\n",
       "       [1],\n",
       "       [1],\n",
       "       ...,\n",
       "       [2],\n",
       "       [2],\n",
       "       [2]], dtype=uint8)"
      ]
     },
     "execution_count": 6,
     "metadata": {},
     "output_type": "execute_result"
    }
   ],
   "source": [
    "raw_y"
   ]
  },
  {
   "cell_type": "code",
   "execution_count": 7,
   "metadata": {},
   "outputs": [],
   "source": [
    "# one hot"
   ]
  },
  {
   "cell_type": "code",
   "execution_count": 88,
   "metadata": {},
   "outputs": [],
   "source": [
    "def one_hot_encoder(raw_y):\n",
    "    \n",
    "    result=[]\n",
    "    \n",
    "    for i in raw_y: #1 to 2480\n",
    "        y_temp=np.zeros(2)# 1 to 2\n",
    "        y_temp[i-1]=1\n",
    "        \n",
    "        result.append(y_temp)\n",
    "    return np.array(result)"
   ]
  },
  {
   "cell_type": "code",
   "execution_count": 89,
   "metadata": {},
   "outputs": [],
   "source": [
    "y=one_hot_encoder(raw_y)"
   ]
  },
  {
   "cell_type": "code",
   "execution_count": 123,
   "metadata": {},
   "outputs": [
    {
     "data": {
      "text/plain": [
       "array([[1., 0.],\n",
       "       [1., 0.],\n",
       "       [1., 0.],\n",
       "       ...,\n",
       "       [0., 1.],\n",
       "       [0., 1.],\n",
       "       [0., 1.]])"
      ]
     },
     "execution_count": 123,
     "metadata": {},
     "output_type": "execute_result"
    }
   ],
   "source": [
    "y"
   ]
  },
  {
   "cell_type": "code",
   "execution_count": 124,
   "metadata": {},
   "outputs": [
    {
     "data": {
      "text/plain": [
       "array([1, 1, 1, ..., 2, 2, 2], dtype=uint8)"
      ]
     },
     "execution_count": 124,
     "metadata": {},
     "output_type": "execute_result"
    }
   ],
   "source": [
    "raw_y"
   ]
  },
  {
   "cell_type": "code",
   "execution_count": 125,
   "metadata": {},
   "outputs": [
    {
     "data": {
      "text/plain": [
       "(2480, 2)"
      ]
     },
     "execution_count": 125,
     "metadata": {},
     "output_type": "execute_result"
    }
   ],
   "source": [
    "y.shape"
   ]
  },
  {
   "cell_type": "code",
   "execution_count": 126,
   "metadata": {},
   "outputs": [],
   "source": [
    "# theta1"
   ]
  },
  {
   "cell_type": "code",
   "execution_count": 127,
   "metadata": {},
   "outputs": [],
   "source": [
    "# theta2"
   ]
  },
  {
   "cell_type": "code",
   "execution_count": 128,
   "metadata": {},
   "outputs": [],
   "source": [
    "def serialize(a,b):\n",
    "    return np.append(a.flatten(),b.flatten())"
   ]
  },
  {
   "cell_type": "code",
   "execution_count": 129,
   "metadata": {},
   "outputs": [],
   "source": [
    "theta_serialize=np.random.uniform(-0.5,0.5,751)\n",
    "# 105*7+8*2 = 751"
   ]
  },
  {
   "cell_type": "code",
   "execution_count": 130,
   "metadata": {},
   "outputs": [],
   "source": [
    "# theta_serialize=serialize(theta1,theta2)"
   ]
  },
  {
   "cell_type": "code",
   "execution_count": 131,
   "metadata": {},
   "outputs": [],
   "source": [
    "# theta_serialize.shape"
   ]
  },
  {
   "cell_type": "code",
   "execution_count": 132,
   "metadata": {},
   "outputs": [],
   "source": [
    "def deserialize(theta_serialize):\n",
    "    theta1 = theta_serialize[:7*105].reshape(7,105)\n",
    "    theta2 = theta_serialize[7*105:].reshape(2,8)\n",
    "    return theta1,theta2\n",
    "    "
   ]
  },
  {
   "cell_type": "code",
   "execution_count": 133,
   "metadata": {},
   "outputs": [],
   "source": [
    "theta1,theta2 = deserialize(theta_serialize)"
   ]
  },
  {
   "cell_type": "code",
   "execution_count": 134,
   "metadata": {},
   "outputs": [],
   "source": [
    "# theta1,theta2"
   ]
  },
  {
   "cell_type": "code",
   "execution_count": 135,
   "metadata": {},
   "outputs": [
    {
     "data": {
      "text/plain": [
       "((7, 105), (2, 8))"
      ]
     },
     "execution_count": 135,
     "metadata": {},
     "output_type": "execute_result"
    }
   ],
   "source": [
    "theta1.shape,theta2.shape"
   ]
  },
  {
   "cell_type": "code",
   "execution_count": 136,
   "metadata": {},
   "outputs": [
    {
     "data": {
      "text/plain": [
       "(2480, 105)"
      ]
     },
     "execution_count": 136,
     "metadata": {},
     "output_type": "execute_result"
    }
   ],
   "source": [
    "X.shape"
   ]
  },
  {
   "cell_type": "code",
   "execution_count": 137,
   "metadata": {},
   "outputs": [],
   "source": [
    "# Forward Propagation"
   ]
  },
  {
   "cell_type": "code",
   "execution_count": 138,
   "metadata": {},
   "outputs": [],
   "source": [
    "def sigmoid(z):\n",
    "    return 1/(1+np.exp(-z))"
   ]
  },
  {
   "cell_type": "code",
   "execution_count": 139,
   "metadata": {},
   "outputs": [],
   "source": [
    "def feed_forward(theta_serialize,X):\n",
    "    theta1,theta2 = deserialize(theta_serialize)\n",
    "    a1 = X\n",
    "    z2 = a1@theta1.T\n",
    "    a2 = sigmoid(z2)\n",
    "    a2 = np.insert(a2,0,values=1,axis=1)\n",
    "    z3 = a2@theta2.T\n",
    "    h = sigmoid(z3)\n",
    "    return a1,z2,a2,z3,h\n",
    "    \n",
    "    "
   ]
  },
  {
   "cell_type": "code",
   "execution_count": 140,
   "metadata": {},
   "outputs": [],
   "source": [
    "def cost(theta_serialize,X,y):\n",
    "    a1,z2,a2,z3,h=feed_forward(theta_serialize,X)\n",
    "    J = -np.sum(y*np.log(h)+(1-y)*np.log(1-h))/len(X)\n",
    "    return J"
   ]
  },
  {
   "cell_type": "code",
   "execution_count": 141,
   "metadata": {},
   "outputs": [],
   "source": [
    "# cost(theta_serialize,X,y)"
   ]
  },
  {
   "cell_type": "code",
   "execution_count": 142,
   "metadata": {},
   "outputs": [],
   "source": [
    "# Regualize"
   ]
  },
  {
   "cell_type": "code",
   "execution_count": 143,
   "metadata": {},
   "outputs": [],
   "source": [
    "def reg_cost(theta_serialize,X,y,lamda):\n",
    "    sum1 = np.sum(np.power(theta1[:,1:],2))\n",
    "    sum2 = np.sum(np.power(theta2[:,1:],2))\n",
    "    reg = (sum1+sum2)*lamda/(2*len(X))\n",
    "    return reg+cost(theta_serialize,X,y)"
   ]
  },
  {
   "cell_type": "code",
   "execution_count": 144,
   "metadata": {},
   "outputs": [],
   "source": [
    "# lamda =1\n",
    "# reg_cost(theta_serialize,X,y,lamda)"
   ]
  },
  {
   "cell_type": "code",
   "execution_count": 145,
   "metadata": {},
   "outputs": [],
   "source": [
    "# Back propagation"
   ]
  },
  {
   "cell_type": "code",
   "execution_count": 146,
   "metadata": {},
   "outputs": [],
   "source": [
    "def sigmoid_gradient(z):\n",
    "    return sigmoid(z)*(1-sigmoid(z))"
   ]
  },
  {
   "cell_type": "code",
   "execution_count": 147,
   "metadata": {},
   "outputs": [],
   "source": [
    "def gradient(theta_serialize,X,y):\n",
    "    theta1,theta2 = deserialize(theta_serialize)\n",
    "    a1,z2,a2,z3,h=feed_forward(theta_serialize,X)\n",
    "    d3 = h-y\n",
    "    d2 = d3@theta2[:,1:]*sigmoid_gradient(z2)\n",
    "    D2 = (d3.T@a2)/len(X)\n",
    "    D1 = (d2.T@a1)/len(X)\n",
    "    return serialize(D1,D2)"
   ]
  },
  {
   "cell_type": "code",
   "execution_count": 148,
   "metadata": {},
   "outputs": [],
   "source": [
    "# Regualized gradient"
   ]
  },
  {
   "cell_type": "code",
   "execution_count": 149,
   "metadata": {},
   "outputs": [],
   "source": [
    "def reg_gradient(theta_serialize,X,y,lamda):\n",
    "    D = gradient(theta_serialize,X,y)\n",
    "    \n",
    "    D1,D2=deserialize(D)\n",
    "    \n",
    "    theta1,theta2 = deserialize(theta_serialize)\n",
    "    D1[:,1:] = D1[:,1:] + theta1[:,1:]*lamda/len(X)\n",
    "    D2[:,1:] = D2[:,1:] + theta2[:,1:]*lamda/len(X)\n",
    "    \n",
    "    return serialize(D1,D2)\n",
    "    "
   ]
  },
  {
   "cell_type": "code",
   "execution_count": 150,
   "metadata": {},
   "outputs": [],
   "source": [
    "from scipy.optimize import minimize\n",
    "\n",
    "def nn_training(X,y):\n",
    "    \n",
    "    init_theta = np.random.uniform(-0.5,0.5,751) #751 initila Theta in serialiezed\n",
    "    res = minimize(fun=reg_cost,\n",
    "                   x0=init_theta,\n",
    "                   args=(X,y,lamda),\n",
    "                   method='TNC',\n",
    "                   jac=reg_gradient,\n",
    "                   options={'maxiter':100000})\n",
    "    \n",
    "    return res"
   ]
  },
  {
   "cell_type": "code",
   "execution_count": 151,
   "metadata": {},
   "outputs": [],
   "source": [
    "lamda = 10\n",
    "res = nn_training(X,y)"
   ]
  },
  {
   "cell_type": "code",
   "execution_count": 152,
   "metadata": {},
   "outputs": [],
   "source": [
    "# res"
   ]
  },
  {
   "cell_type": "code",
   "execution_count": 153,
   "metadata": {},
   "outputs": [],
   "source": [
    "raw_y  = data['Label'].reshape(2480,)"
   ]
  },
  {
   "cell_type": "code",
   "execution_count": 154,
   "metadata": {},
   "outputs": [
    {
     "data": {
      "text/plain": [
       "(2480, 105)"
      ]
     },
     "execution_count": 154,
     "metadata": {},
     "output_type": "execute_result"
    }
   ],
   "source": [
    "X.shape"
   ]
  },
  {
   "cell_type": "code",
   "execution_count": 155,
   "metadata": {},
   "outputs": [
    {
     "data": {
      "text/plain": [
       "0.9387096774193548"
      ]
     },
     "execution_count": 155,
     "metadata": {},
     "output_type": "execute_result"
    }
   ],
   "source": [
    "_,_,_,_,h = feed_forward(res.x,X)\n",
    "y_pred = np.argmax(h,axis=1)+1\n",
    "acc = np.mean(y_pred==raw_y)\n",
    "\n",
    "acc"
   ]
  },
  {
   "cell_type": "code",
   "execution_count": 43,
   "metadata": {},
   "outputs": [
    {
     "name": "stdout",
     "output_type": "stream",
     "text": [
      "[1 1 1 ... 2 2 2]\n"
     ]
    }
   ],
   "source": [
    "print(y_pred)"
   ]
  },
  {
   "cell_type": "code",
   "execution_count": 44,
   "metadata": {},
   "outputs": [],
   "source": [
    "# theta_serialize,\n",
    "# theta_serialize.shape"
   ]
  },
  {
   "cell_type": "code",
   "execution_count": 4,
   "metadata": {},
   "outputs": [],
   "source": [
    "# res.x,\n",
    "# res.x.shape"
   ]
  },
  {
   "cell_type": "code",
   "execution_count": null,
   "metadata": {},
   "outputs": [],
   "source": []
  },
  {
   "cell_type": "code",
   "execution_count": null,
   "metadata": {},
   "outputs": [],
   "source": []
  },
  {
   "cell_type": "code",
   "execution_count": null,
   "metadata": {},
   "outputs": [],
   "source": []
  },
  {
   "cell_type": "code",
   "execution_count": null,
   "metadata": {},
   "outputs": [],
   "source": []
  }
 ],
 "metadata": {
  "kernelspec": {
   "display_name": "Python 3",
   "language": "python",
   "name": "python3"
  },
  "language_info": {
   "codemirror_mode": {
    "name": "ipython",
    "version": 3
   },
   "file_extension": ".py",
   "mimetype": "text/x-python",
   "name": "python",
   "nbconvert_exporter": "python",
   "pygments_lexer": "ipython3",
   "version": "3.7.4"
  }
 },
 "nbformat": 4,
 "nbformat_minor": 4
}
